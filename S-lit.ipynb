{
  "nbformat": 4,
  "nbformat_minor": 0,
  "metadata": {
    "colab": {
      "provenance": [],
      "authorship_tag": "ABX9TyPMBD6PCN0bY0EkxktUVi7t",
      "include_colab_link": true
    },
    "kernelspec": {
      "name": "python3",
      "display_name": "Python 3"
    },
    "language_info": {
      "name": "python"
    }
  },
  "cells": [
    {
      "cell_type": "markdown",
      "metadata": {
        "id": "view-in-github",
        "colab_type": "text"
      },
      "source": [
        "<a href=\"https://colab.research.google.com/github/krishnan-here/QuantResearch/blob/master/S-lit.ipynb\" target=\"_parent\"><img src=\"https://colab.research.google.com/assets/colab-badge.svg\" alt=\"Open In Colab\"/></a>"
      ]
    },
    {
      "cell_type": "code",
      "execution_count": 1,
      "metadata": {
        "colab": {
          "base_uri": "https://localhost:8080/",
          "height": 130
        },
        "id": "oUPYXVmmYo-I",
        "outputId": "b1b7e136-beb1-43f1-bc78-7fe26a026324"
      },
      "outputs": [
        {
          "output_type": "error",
          "ename": "SyntaxError",
          "evalue": "ignored",
          "traceback": [
            "\u001b[0;36m  File \u001b[0;32m\"<ipython-input-1-62c9e4bbd5dc>\"\u001b[0;36m, line \u001b[0;32m61\u001b[0m\n\u001b[0;31m    \"Baseline\": [\"Visualization 5\", \"Visualization\u001b[0m\n\u001b[0m                                    ^\u001b[0m\n\u001b[0;31mSyntaxError\u001b[0m\u001b[0;31m:\u001b[0m unterminated string literal (detected at line 61)\n"
          ]
        }
      ],
      "source": [
        "import streamlit as st\n",
        "import pandas as pd\n",
        "import seaborn as sns\n",
        "import matplotlib.pyplot as plt\n",
        "import numpy as np\n",
        "import altair as alt\n",
        "import pickle\n",
        "import plotly.express as px\n",
        "\n",
        "st.set_page_config(page_title=\"RELI SKY\",layout=\"wide\")\n",
        "st.title(\"A LOT-Change Phase II\")\n",
        "\n",
        "st.header(\"Improving learning outcomes and transition to secondary school through after-school support and community participation\")\n",
        "st.subheader(\"Select a plot on the sidebar\")\n",
        "#st.write(\"this is regular text\")\n",
        "st.sidebar.image('RELILogo.png')\n",
        "st.sidebar.image('microdata.png')\n",
        "st.sidebar.header(\"Please filter here\")\n",
        "\n",
        "# Load data from STATA files\n",
        "df1 = pd.read_stata('GEC_Background_ALL_Data.dta')\n",
        "df2 = pd.read_stata('GEC_LifeSkills_ALL_Data.dta')\n",
        "df3= pd.read_stata('GEC_LitNumAss_Data.dta')\n",
        "df4= pd.read_stata('GEC_PGI_ALL_Data.dta')\n",
        "\n",
        "# Rename columns and drop ID column for df1\n",
        "df1 = df1.rename(columns={\n",
        "    'level15': 'level_2015',\n",
        "    'class15': 'grade_2015',\n",
        "    'level14': 'level_2014',\n",
        "    'class13': 'grade_2013',\n",
        "    'class14': 'grade_2014',\n",
        "    'insch15': 'in_school_2015',\n",
        "    'insch14': 'in_school_2014',\n",
        "    'level': 'hh_education_level',\n",
        "    'hsex': 'hh_head_sex',\n",
        "    'hage': 'hh_head_age',\n",
        "    'group': 'study_group',\n",
        "    'hhsize': 'hh_size',\n",
        "    'site': 'study_site',\n",
        "    'windex_3': 'wealth_index_3q',\n",
        "    'windex_5': 'wealth_index_5q'\n",
        "})\n",
        "df1 = df1.drop(columns=['ID'])\n",
        "df1.columns = [df1.columns.get_level_values(0)[i].split(\"_\")[0].capitalize() + \" \" + df1.columns.get_level_values(0)[i].split(\"_\")[1].capitalize() if len(df1.columns.get_level_values(0)[i].split(\"_\")) == 2 else df1.columns.get_level_values(0)[i].capitalize() for i in range(len(df1.columns))]\n",
        "\n",
        "df2 = df2.drop(columns=['ID'])\n",
        "df3 = df3.drop(columns=['ID'])\n",
        "df4 = df4.drop(columns=['ID'])\n",
        "\n",
        "# Set up sidebar\n",
        "st.sidebar.header(\"Select a dataset\")\n",
        "selected_dataset = st.sidebar.selectbox(\"Dataset\", [\"Background data\", \"Lifeskills data\", \"Literacy and Numeracy assessment data\", \"Parental/Guardian Involvement data\"])\n",
        "\n",
        "visualizations = {\n",
        "    \"Background data\": {\n",
        "        \"All\": [\"Visualization 1\", \"Visualization 2\"]\n",
        "    },\n",
        "    \"Lifeskills data\": {\n",
        "        \"All\": [\"Visualization 3\", \"Visualization 4\"],\n",
        "        \"Baseline\": [\"Visualization 5\", \"Visualization\n",
        "\n",
        "\n",
        "# Set up sidebar for visualization selection based on selected dataset and wave\n",
        "st.sidebar.header(\"Select a visualization type\")\n",
        "selected_viz = st.sidebar.selectbox(\"Visualization type\", available_viz)\n",
        "\n",
        "# Visualize the data based on the selected visualization type\n",
        "if selected_viz == \"Visualization 1\":\n",
        "    # Create a histogram of student ages\n",
        "    st.write(\"## Student age distribution\")\n",
        "    fig = px.histogram(df, x=\"Age\", nbins=30, title=\"Distribution of Student Age\")\n",
        "    st.plotly_chart(fig)\n",
        "    \n",
        "elif selected_viz == \"Visualization 2\":\n",
        "    # Create a scatter plot of student age vs. grade level\n",
        "    st.write(\"## Student age vs. grade level\")\n",
        "    fig = px.scatter(df, x=\"Age\", y=\"Grade\", color=\"Gender\", title=\"Age vs. Grade level by Gender\")\n",
        "    st.plotly_chart(fig)\n",
        "    \n",
        "elif selected_viz == \"Visualization 3\":\n",
        "    # Create a bar chart of life skills scores by grade level\n",
        "    st.write(\"## Life skills scores by grade level\")\n",
        "    fig = px.bar(df, x=\"Grade\", y=[\"Life skills score 1\", \"Life skills score 2\", \"Life skills score 3\"], barmode=\"group\", title=\"Life skills scores by grade level\")\n",
        "    st.plotly_chart(fig)\n",
        "    \n",
        "elif selected_viz == \"Visualization 4\":\n",
        "    # Create a scatter plot of life skills score 1 vs. life skills score 2 by gender\n",
        "    st.write(\"## Life skills score 1 vs. life skills score 2 by gender\")\n",
        "    fig = px.scatter(df, x=\"Life skills score 1\", y=\"Life skills score 2\", color=\"Gender\", title=\"Life skills score 1 vs. Life skills score 2 by Gender\")\n",
        "    st.plotly_chart(fig)\n",
        "    \n",
        "elif selected_viz == \"Visualization 5\":\n",
        "    # Create a line chart of literacy and numeracy assessment scores by grade level\n",
        "    st.write(\"## Literacy and numeracy assessment scores by grade level\")\n",
        "    fig = px.line(df, x=\"Grade\", y=[\"Literacy assessment score\", \"Numeracy assessment score\"], title=\"Literacy and numeracy assessment scores by grade level\")\n",
        "    st.plotly_chart(fig)\n",
        "    \n",
        "elif selected_viz == \"Visualization 6\":\n",
        "    # Create a scatter plot of literacy assessment score vs. numeracy assessment score by gender\n",
        "    st.write(\"## Literacy assessment score vs. numeracy assessment score by gender\")\n",
        "    fig = px.scatter(df, x=\"Literacy assessment score\", y=\"Numeracy assessment score\", color=\"Gender\", title=\"Literacy assessment score vs. numeracy assessment score by Gender\")\n",
        "    st.plotly_chart(fig)\n",
        "    \n",
        "elif selected_viz == \"Visualization 7\":\n",
        "    # Create a bar chart of parental/guardian involvement scores by grade level\n",
        "    st.write(\"## Parental/guardian involvement scores by grade level\")\n",
        "    fig = px.bar(df, x=\"Grade\", y=[\"Parental/guardian involvement score 1\", \"Parental/guardian involvement score 2\"], barmode=\"group\", title=\"Parental/guardian involvement scores by grade level\")\n",
        "    st.plotly_chart(fig)\n",
        "    \n",
        "elif selected_viz == \"Visualization 8\":\n",
        "    # Create a scatter plot of parental/guardian involvement score 1 vs. score 2 by gender\n",
        "    st.write(\"## Parental/guardian involvement score 1 vs. score 2 by gender\")\n",
        "    fig = px.scatter(df, x=\"Parental/guardian involvement score 1\", y=\"Parental/guardian involvement score 2\", color=\"Gender\", title=\"Parental/guardian involvement score 1"
      ]
    }
  ]
}
{
 "cells": [
  {
   "cell_type": "code",
   "execution_count": 1,
   "metadata": {},
   "outputs": [],
   "source": [
    "from bs4 import BeautifulSoup\n",
    "from time import sleep\n",
    "import requests\n",
    "import pandas as pd\n",
    "import numpy as np\n",
    "import re\n",
    "import datetime\n",
    "from dateutil.relativedelta import relativedelta, WE\n",
    "from datetime import datetime,timedelta\n",
    "from pandas.tseries.offsets import DateOffset, BDay\n",
    "from pandas.tseries.holiday import USFederalHolidayCalendar\n",
    "from pandas.tseries.offsets import CustomBusinessDay\n",
    "import pandas_datareader.data as web\n",
    "import ffn\n",
    "import pickle\n",
    "from io import StringIO"
   ]
  },
  {
   "cell_type": "code",
   "execution_count": null,
   "metadata": {},
   "outputs": [],
   "source": [
    "import matplotlib.pyplot as plt\n",
    "plt.rcParams['figure.figsize']=[20,10]\n",
    "\n",
    "import holoviews as hv\n",
    "import hvplot.pandas\n",
    "hv.extension('bokeh')"
   ]
  },
  {
   "cell_type": "code",
   "execution_count": null,
   "metadata": {},
   "outputs": [],
   "source": [
    "path=r'F:\\WQU_capstone'"
   ]
  },
  {
   "cell_type": "code",
   "execution_count": null,
   "metadata": {
    "scrolled": true
   },
   "outputs": [],
   "source": [
    "## Download VIX Futures data from CBOE after 2013\n",
    "mainlink='https://markets.cboe.com/us/futures/market_statistics/historical_data/'\n",
    "url = requests.get(mainlink).text\n",
    "soup = BeautifulSoup(url)\n",
    "\n",
    "cols=['Trade Date','Futures','Open','High','Low','Close','Settle','Change','Total Volume','EFP','Open Interest']\n",
    "df=pd.DataFrame()\n",
    "for link in soup.findAll(\"a\",class_='historical-data-link'):\n",
    "    current_link = link.get(\"href\")\n",
    "    if (current_link.find('/csv/')!=-1)&(current_link.find('VX')!=-1):\n",
    "        if(link.text.strip().find('VX+VXT ')!=-1)&(int(re.search('[\\d]+',link.text.strip())[0])>13):\n",
    "            print(current_link)\n",
    "            df= df.append(pd.read_csv(mainlink+current_link)\\\n",
    "                      ,ignore_index=True)"
   ]
  },
  {
   "cell_type": "code",
   "execution_count": null,
   "metadata": {},
   "outputs": [],
   "source": [
    "## Download VIX Futures data from CBOE before 2014\n",
    "\n",
    "mainlink2='https://www.cboe.com/products/futures/market-data/historical-data-archive'\n",
    "\n",
    "url = requests.get(mainlink2).text\n",
    "soup = BeautifulSoup(url)\n",
    "\n",
    "df1=pd.DataFrame()\n",
    "for link in soup.findAll(\"a\"):\n",
    "    current_link2 = link.get(\"href\")\n",
    "    if(current_link2!=None):\n",
    "        if (current_link2.endswith('VX.csv')):\n",
    "            if (re.search('[\\d]+',current_link2)!=None):\n",
    "                if(int((re.search('[\\d]+',current_link2)[0]))<14):\n",
    "                    print(current_link2)\n",
    "                    df1= df1.append(pd.read_csv('https://www.cboe.com'+current_link2,names=cols,skiprows=1,header=None)\\\n",
    "                      ,ignore_index=True)\n"
   ]
  },
  {
   "cell_type": "code",
   "execution_count": null,
   "metadata": {},
   "outputs": [],
   "source": [
    "df1=df1[~(df1['Trade Date']=='Trade Date')].copy()\n",
    "df1['series'] =df1['Futures'].apply(lambda x:x[0])\n",
    "df1['year']=df1['Futures'].apply(lambda x:int(x[-3:-1])+2000)\n",
    "df1['month']=df1['Futures'].apply(lambda x:datetime.strptime(x[-7:-4],'%b').month)\n",
    "df['series'] =df['Futures'].apply(lambda x:x[0])\n",
    "df['year']=df['Futures'].apply(lambda x:int(x[-6:-1]))\n",
    "df['month']=df['Futures'].apply(lambda x:datetime.strptime(x[-9:-6],'%b').month)"
   ]
  },
  {
   "cell_type": "code",
   "execution_count": null,
   "metadata": {},
   "outputs": [],
   "source": [
    "newdf=df.append(df1)\n",
    "# newdf.drop_duplicates(subset=cols, inplace=True) ## does not serve intended purpose\n",
    "newdf.to_csv(path+'\\\\all_fut_data.csv')"
   ]
  },
  {
   "cell_type": "code",
   "execution_count": null,
   "metadata": {},
   "outputs": [],
   "source": [
    "dts= pd.read_excel(path+'\\\\vix_expirationdts.xlsx')\n",
    "usbd=CustomBusinessDay(calendar=USFederalHolidayCalendar())\n",
    "dts['last trading dts']= dts['Expiration dts']-usbd\n",
    "\n",
    "dts['month']= dts['Expiration dts'].dt.month\n",
    "dts['year']= dts['Expiration dts'].dt.year"
   ]
  },
  {
   "cell_type": "code",
   "execution_count": null,
   "metadata": {},
   "outputs": [],
   "source": [
    "alldf= pd.merge(newdf,dts, left_on=['year','month'],right_on=['year','month'],how='left')\n",
    "\n",
    "alldf['Trade Date']= pd.to_datetime(alldf['Trade Date'])\n",
    "alldf['Expiration dts']= pd.to_datetime(alldf['Expiration dts'])\n",
    "alldf['Settle']= alldf['Settle'].astype(float)"
   ]
  },
  {
   "cell_type": "code",
   "execution_count": null,
   "metadata": {},
   "outputs": [],
   "source": [
    "def CMT_VIX_FUTURES(m,alldf):\n",
    "    cutoffdate=pd.to_datetime('2006-11-14') ## cut off date for first month futures is 2006-09-19\n",
    "    last=cutoffdate\n",
    "\n",
    "    idx= pd.DataFrame (columns=['date','c1','c2','last_exp','lasttrade_dt','c1_wt','c2_wt','c1_px','c2_px','c1_open','cdr','indexlevel','prev_c1_wt','rollcost'])\n",
    "    idx['date']=alldf[alldf['Trade Date'] >= cutoffdate]['Trade Date'].unique()##earlier was set at 2005-12-20\n",
    "\n",
    "    idx.sort_values(by='date',inplace=True)\n",
    "\n",
    "    idx.set_index('date',inplace=True)\n",
    "\n",
    "    for i in idx.index:\n",
    "        getfwdcontracts= alldf[alldf['Expiration dts']>i].sort_values(by='Expiration dts')[['Futures','Expiration dts','last trading dts']].drop_duplicates()\n",
    "        getprevcontracts= alldf[alldf['Expiration dts']<=i].sort_values(by='Expiration dts',ascending=False)[['Futures','Expiration dts','last trading dts']].drop_duplicates()\n",
    "        idx.loc[i,'c1']= getfwdcontracts.iloc[m-1,getfwdcontracts.columns.get_loc('Futures')]\n",
    "        idx.loc[i,'c2']= getfwdcontracts.iloc[m,getfwdcontracts.columns.get_loc('Futures')]\n",
    "        idx.loc[i,'last_exp']=getprevcontracts.iloc[0,getprevcontracts.columns.get_loc('Expiration dts')]\n",
    "        idx.loc[i,'lasttrade_dt']=getfwdcontracts.iloc[0,getfwdcontracts.columns.get_loc('last trading dts')]\n",
    "\n",
    "        days_remaining= len(pd.date_range(start=i,end=idx.loc[i,'lasttrade_dt'],freq=usbd))\n",
    "        total_days= len(pd.date_range(start=idx.loc[i,'last_exp'],end=idx.loc[i,'lasttrade_dt'],freq=usbd))\n",
    "\n",
    "        idx.loc[i,'c1_wt']= days_remaining/total_days\n",
    "        idx.loc[i,'c2_wt']= 1-days_remaining/total_days\n",
    "\n",
    "        try:\n",
    "            idx.loc[i,'c1_px']= alldf.loc[((alldf.Futures==idx.loc[i,'c1'])&(alldf['Trade Date']==i)),'Settle'].values[0]\n",
    "        except:\n",
    "            idx.loc[i,'c1_px']=np.NaN\n",
    "        try:\n",
    "            idx.loc[i,'c2_px']= alldf.loc[((alldf.Futures==idx.loc[i,'c2'])&(alldf['Trade Date']==i)),'Settle'].values[0]\n",
    "        except:\n",
    "            idx.loc[i,'c2_px']=np.NaN\n",
    "\n",
    "        if(days_remaining==total_days):\n",
    "            idx.loc[i,'c1_open']= idx.loc[last,'c2_px']\n",
    "            idx.loc[i,'cdr']=idx.loc[i,'c1_wt']* idx.loc[i,'c1_px']/idx.loc[i,'c1_open']\n",
    "            \n",
    "            idx.loc[i,'prev_c1_wt']= idx.loc[last,'c2_wt']\n",
    "\n",
    "        else:\n",
    "            idx.loc[i,'c1_open']= idx.loc[last,'c1_px']\n",
    "            idx.loc[i,'cdr']=idx.loc[i,'c1_wt']* idx.loc[i,'c1_px']/idx.loc[i,'c1_open']+ idx.loc[i,'c2_wt']*idx.loc[i,'c2_px']/idx.loc[last,'c2_px']\n",
    "            \n",
    "            idx.loc[i,'prev_c1_wt']= idx.loc[last,'c1_wt']\n",
    "        \n",
    "        if(i!=idx.index[0]):\n",
    "            idx.loc[last,'rollcost']= (idx.loc[last,'c2_px']-idx.loc[last,'c1_px'])/idx.loc[last,'c2_px']*np.abs(idx.loc[i,'c1_wt']-idx.loc[i,'prev_c1_wt'])\n",
    "\n",
    "        \n",
    "        if(i==idx.index[0]):\n",
    "            idx.loc[i,'indexlevel']=100000\n",
    "        else:\n",
    "            idx.loc[i,'indexlevel']= idx.loc[last,'indexlevel']*idx.loc[i,'cdr']\n",
    "        \n",
    "        last =i\n",
    "    \n",
    "    idx= idx.rename(columns={'indexlevel':str(m)+'M_'+'ER','rollcost':'rollcost_'+str(m)+'M'})\n",
    "        \n",
    "    return idx"
   ]
  },
  {
   "cell_type": "code",
   "execution_count": null,
   "metadata": {},
   "outputs": [],
   "source": [
    "dfdict={}\n",
    "for i in range(4):\n",
    "    dfdict[str(i+1)+'MER']= CMT_VIX_FUTURES(i+1,alldf)"
   ]
  },
  {
   "cell_type": "code",
   "execution_count": null,
   "metadata": {},
   "outputs": [],
   "source": [
    "vix_idxs=pd.concat([dfdict[str(i+1)+'MER'][str(i+1)+'M_'+'ER'] for i in range(4)],axis=1,join='inner')\n",
    "rollcosts= pd.concat([dfdict[str(i+1)+'MER']['rollcost_'+str(i+1)+'M'] for i in range(4)],axis=1,join='inner')"
   ]
  },
  {
   "cell_type": "code",
   "execution_count": null,
   "metadata": {},
   "outputs": [],
   "source": [
    "vix_idxs[vix_idxs.index>pd.to_datetime('2008-01-01')].hvplot.line(frame_width=700,frame_height=400)"
   ]
  },
  {
   "cell_type": "code",
   "execution_count": null,
   "metadata": {},
   "outputs": [],
   "source": [
    "def CMT_VIX_FUTURES_MT(m,alldf):\n",
    "    cutoffdate=pd.to_datetime('2008-05-20')##earlier was set at 2005-12-20\n",
    "    last=cutoffdate\n",
    "\n",
    "    idx= pd.DataFrame (columns=['date','c1','c2','c3','c4','last_exp','lasttrade_dt','c1_wt','c2_wt','c3_wt','c4_wt'\\\n",
    "                                ,'c1_px','c2_px','c3_px','c4_px','c1_open','c2_open','c3_open'\\\n",
    "                                ,'cdr','indexlevel','prev_c1_wt','rollcost'])\n",
    "    idx['date']=alldf[alldf['Trade Date'] >= cutoffdate]['Trade Date'].unique()\n",
    "\n",
    "    idx.sort_values(by='date',inplace=True)\n",
    "    idx.loc[idx.index[0],'indexlevel']=100000\n",
    "\n",
    "    idx.set_index('date',inplace=True)\n",
    "\n",
    "    for i in idx.index:\n",
    "        getfwdcontracts= alldf[alldf['Expiration dts']>i].sort_values(by='Expiration dts')[['Futures','Expiration dts','last trading dts']].drop_duplicates()\n",
    "        getprevcontracts= alldf[alldf['Expiration dts']<=i].sort_values(by='Expiration dts',ascending=False)[['Futures','Expiration dts','last trading dts']].drop_duplicates()\n",
    "        idx.loc[i,'c1']= getfwdcontracts.iloc[m-1,getfwdcontracts.columns.get_loc('Futures')]\n",
    "        idx.loc[i,'c2']= getfwdcontracts.iloc[m,getfwdcontracts.columns.get_loc('Futures')]\n",
    "        idx.loc[i,'c3']= getfwdcontracts.iloc[m+1,getfwdcontracts.columns.get_loc('Futures')]\n",
    "        idx.loc[i,'c4']= getfwdcontracts.iloc[m+2,getfwdcontracts.columns.get_loc('Futures')]\n",
    "        \n",
    "        idx.loc[i,'last_exp']=getprevcontracts.iloc[0,getprevcontracts.columns.get_loc('Expiration dts')]\n",
    "        idx.loc[i,'lasttrade_dt']=getfwdcontracts.iloc[0,getfwdcontracts.columns.get_loc('last trading dts')]\n",
    "\n",
    "        days_remaining= len(pd.date_range(start=i,end=idx.loc[i,'lasttrade_dt'],freq=usbd))\n",
    "        total_days= len(pd.date_range(start=idx.loc[i,'last_exp'],end=idx.loc[i,'lasttrade_dt'],freq=usbd))\n",
    "\n",
    "        idx.loc[i,'c1_wt']= days_remaining/total_days* (1/3)\n",
    "        idx.loc[i,'c4_wt']= (1/3)*(1-days_remaining/total_days)\n",
    "        idx.loc[i,'c2_wt']= (1/3)\n",
    "        idx.loc[i,'c3_wt']= (1/3)\n",
    "\n",
    "        try:\n",
    "            idx.loc[i,'c1_px']= alldf.loc[((alldf.Futures==idx.loc[i,'c1'])&(alldf['Trade Date']==i)),'Settle'].values[0]\n",
    "        except:\n",
    "            idx.loc[i,'c1_px']=np.NaN\n",
    "        try:\n",
    "            idx.loc[i,'c2_px']= alldf.loc[((alldf.Futures==idx.loc[i,'c2'])&(alldf['Trade Date']==i)),'Settle'].values[0]\n",
    "        except:\n",
    "            idx.loc[i,'c2_px']=np.NaN\n",
    "            \n",
    "        try:\n",
    "            idx.loc[i,'c3_px']= alldf.loc[((alldf.Futures==idx.loc[i,'c3'])&(alldf['Trade Date']==i)),'Settle'].values[0]\n",
    "        except:\n",
    "            idx.loc[i,'c3_px']=np.NaN\n",
    "            \n",
    "        try:\n",
    "            idx.loc[i,'c4_px']= alldf.loc[((alldf.Futures==idx.loc[i,'c4'])&(alldf['Trade Date']==i)),'Settle'].values[0]\n",
    "        except:\n",
    "            idx.loc[i,'c4_px']=np.NaN\n",
    "\n",
    "\n",
    "\n",
    "        if(days_remaining==total_days):\n",
    "            idx.loc[i,'c1_open']= idx.loc[last,'c2_px']\n",
    "            idx.loc[i,'c2_open']= idx.loc[last,'c3_px']\n",
    "            idx.loc[i,'c3_open']= idx.loc[last,'c4_px']\n",
    "            \n",
    "            idx.loc[i,'cdr']=idx.loc[i,'c1_wt']* idx.loc[i,'c1_px']/idx.loc[i,'c1_open']+\\\n",
    "            idx.loc[i,'c2_wt']* idx.loc[i,'c2_px']/idx.loc[i,'c2_open']+\\\n",
    "            idx.loc[i,'c3_wt']* idx.loc[i,'c3_px']/idx.loc[i,'c3_open']\n",
    "            \n",
    "            idx.loc[i,'prev_c1_wt']= idx.loc[last,'c4_wt']\n",
    "            \n",
    "        else:\n",
    "            idx.loc[i,'c1_open']= idx.loc[last,'c1_px']\n",
    "            idx.loc[i,'c2_open']= idx.loc[last,'c2_px']\n",
    "            idx.loc[i,'c3_open']= idx.loc[last,'c3_px']\n",
    "            \n",
    "            idx.loc[i,'cdr']= idx.loc[i,'c1_wt']* idx.loc[i,'c1_px']/idx.loc[i,'c1_open']+\\\n",
    "            idx.loc[i,'c2_wt']* idx.loc[i,'c2_px']/idx.loc[i,'c2_open']+\\\n",
    "            idx.loc[i,'c3_wt']* idx.loc[i,'c3_px']/idx.loc[i,'c3_open']+\\\n",
    "            idx.loc[i,'c4_wt']* idx.loc[i,'c4_px']/idx.loc[last,'c4_px']\n",
    "            \n",
    "            idx.loc[i,'prev_c1_wt']= idx.loc[last,'c1_wt']\n",
    "        \n",
    "        if(i!=idx.index[0]):\n",
    "            idx.loc[last,'rollcost']= (idx.loc[last,'c4_px']-idx.loc[last,'c1_px'])/idx.loc[last,'c4_px']*np.abs(idx.loc[i,'c1_wt']-idx.loc[i,'prev_c1_wt'])\n",
    "        \n",
    "        if(i==idx.index[0]):\n",
    "            idx.loc[i,'indexlevel']=100000\n",
    "        else:\n",
    "            idx.loc[i,'indexlevel']= idx.loc[last,'indexlevel']*idx.loc[i,'cdr']\n",
    "            \n",
    "        last =i\n",
    "\n",
    "    idx= idx.rename(columns={'indexlevel':'4M_MediumTerm'+'ER','rollcost':'rollcost_4MMT'})\n",
    "\n",
    "    return idx"
   ]
  },
  {
   "cell_type": "code",
   "execution_count": null,
   "metadata": {},
   "outputs": [],
   "source": [
    "dfdict['4M_MTER']=CMT_VIX_FUTURES_MT(4,alldf)"
   ]
  },
  {
   "cell_type": "code",
   "execution_count": null,
   "metadata": {},
   "outputs": [],
   "source": [
    "vix_idxs=vix_idxs.join(dfdict['4M_MTER']['4M_MediumTermER'],how='inner')\n",
    "rollcosts= rollcosts.join(dfdict['4M_MTER']['rollcost_4MMT'],how='inner')"
   ]
  },
  {
   "cell_type": "code",
   "execution_count": null,
   "metadata": {},
   "outputs": [],
   "source": [
    "alldfcopy= alldf[alldf['Expiration dts'].notna()].copy()\n",
    "alldfcopy['Trade Date']=alldfcopy['Trade Date'].apply(lambda x: x.strftime('%Y-%m-%d'))\n",
    "\n",
    "def plotter(date='2006-11-14'):\n",
    "    snap= alldfcopy[alldfcopy['Trade Date']==date]\n",
    "    snap.sort_values(by='Expiration dts',inplace=True)\n",
    "    snap.rename(columns={'Settle':'Settement Price','Futures':'Futures Series'},inplace=True)\n",
    "    plot = hv.Curve(snap,vdims='Settement Price',kdims='Futures Series').options(color='red',line_width=2)\n",
    "    return plot\n",
    "\n",
    "%opts Curve [width=650, height=400]\n",
    "hv.DynamicMap(plotter, kdims='date', label=\"Term Structure of VIX Futures\").redim.values(date=alldfcopy['Trade Date'].sort_values(ascending=False).unique())"
   ]
  },
  {
   "cell_type": "code",
   "execution_count": null,
   "metadata": {},
   "outputs": [],
   "source": [
    "b=pd.read_excel(r'http://www.cboe.com/publish/scheduledtask/mktdata/datahouse/vixarchive.xls',skiprows=1)\n",
    "a=pd.read_csv(r'http://www.cboe.com/publish/scheduledtask/mktdata/datahouse/vixcurrent.csv',skiprows=1,parse_dates=['Date'])\n",
    "\n",
    "vix=b.append(a,ignore_index=True).set_index('Date')\n",
    "vix.rename(columns={'VIX Close':'VIX'},inplace=True)"
   ]
  },
  {
   "cell_type": "code",
   "execution_count": null,
   "metadata": {},
   "outputs": [],
   "source": [
    "from holoviews.operation.timeseries import rolling, rolling_outlier_std\n",
    "from holoviews import opts\n",
    "\n",
    "curve= hv.Curve(vix['VIX'])\n",
    "scatter=hv.Scatter(rolling_outlier_std(curve,rolling_window=7500,min_periods=1250,sigma=2))\n",
    "spike=hv.Spikes(scatter)\n",
    "\n",
    "curve*scatter*spike.opts(color='pink',alpha=2,width=800,height=500)"
   ]
  },
  {
   "cell_type": "code",
   "execution_count": null,
   "metadata": {},
   "outputs": [],
   "source": [
    "vix.hvplot.kde(y='VIX',width=700,height=500,title='KDE of VIX Index Levels')"
   ]
  },
  {
   "cell_type": "code",
   "execution_count": null,
   "metadata": {},
   "outputs": [],
   "source": [
    "## Extract data (Closing px adj for splits and dividends) from Yahoo finance\n",
    "start_dt=pd.to_datetime('1990-01-01')\n",
    "SPX = web.DataReader('SPY', 'yahoo',start=start_dt).drop(columns=['High','Low', 'Open','Close','Volume']).rename(columns={'Adj Close':'SPY'})"
   ]
  },
  {
   "cell_type": "code",
   "execution_count": null,
   "metadata": {},
   "outputs": [],
   "source": [
    "all_idxs=ffn.core.rebase(pd.concat([vix_idxs,vix['VIX'],SPX['SPY']],join='inner',axis=1),value=100000)"
   ]
  },
  {
   "cell_type": "code",
   "execution_count": null,
   "metadata": {},
   "outputs": [],
   "source": [
    "all_idxs=ffn.core.rebase(vix_idxs.join(vix['VIX'],how='left').join(SPX['SPY'],how='left').fillna(method='ffill'),value=100000)"
   ]
  },
  {
   "cell_type": "code",
   "execution_count": null,
   "metadata": {},
   "outputs": [],
   "source": [
    "all_idxs.hvplot.line(y=[str(i+1)+'M_ER' for i in range(4)]+['4M_MediumTermER','SPY','VIX'],width=1200, height=700)"
   ]
  },
  {
   "cell_type": "code",
   "execution_count": null,
   "metadata": {},
   "outputs": [],
   "source": [
    "((rollcosts/1e-4).dropna(how='all')).hvplot.line(y=['rollcost_1M','rollcost_4MMT'],title='Roll Costs',width=1200, height=700)*hv.HLine(0).opts(color='black',line_dash='dashed',alpha=0.2)"
   ]
  },
  {
   "cell_type": "code",
   "execution_count": null,
   "metadata": {},
   "outputs": [],
   "source": [
    "(rollcosts/1e-4).mean()"
   ]
  },
  {
   "cell_type": "code",
   "execution_count": null,
   "metadata": {},
   "outputs": [],
   "source": [
    "##Pickle all the vix as constant matuurity vix futures index levels, along with all other relevant data\n",
    "pickle_vix = open(path+\"\\\\VIX_indexes.pkl\",\"wb\")\n",
    "pickle_alldata = open(path+\"\\\\alldata_dict.pkl\",'wb')\n",
    "pickle_rollcosts= open(path+\"\\\\rollcosts.pkl\",'wb')\n",
    "pickle.dump(all_idxs, pickle_vix)\n",
    "pickle.dump(dfdict,pickle_alldata)\n",
    "pickle.dump((rollcosts/1e-4).dropna(how='all'),pickle_rollcosts)\n",
    "pickle_vix.close()\n",
    "pickle_alldata.close()\n",
    "pickle_rollcosts.close()"
   ]
  },
  {
   "cell_type": "code",
   "execution_count": null,
   "metadata": {},
   "outputs": [],
   "source": [
    "## VSTOXX data\n",
    "s2= requests.get('https://www.stoxx.com/document/Indices/Current/HistoricalData/h_v2tx.txt').text\n",
    "vstoxx=pd.read_csv(StringIO(s2),sep=';')\n",
    "\n",
    "s=requests.get('https://www.stoxx.com/document/Indices/Current/HistoricalData/h_vst1me.txt').text\n",
    "vst1me=pd.read_csv(StringIO(s),sep=';',skiprows=1)\n",
    "s1= requests.get('https://www.stoxx.com/document/Indices/Current/HistoricalData/h_vmt5me.txt').text\n",
    "vmt5me=pd.read_csv(StringIO(s1),sep=';',skiprows=1)\n",
    "    \n",
    "# pd.read_csv('https://www.stoxx.com/document/Indices/Current/HistoricalData/h_vst1me.txt',sep=';',encoding='utf-8')\n",
    "\n",
    "vst1me['Date']= pd.to_datetime(vst1me['Date'])\n",
    "vmt5me['Date']= pd.to_datetime(vmt5me['Date'])\n",
    "vstoxx['Date']= pd.to_datetime(vstoxx['Date'])\n",
    "\n",
    "\n",
    "STOXX = web.DataReader('^STOXX50E', 'yahoo',start=start_dt).drop(columns=['High','Low', 'Open','Close','Volume']).rename(columns={'Adj Close':'STOXX'})\n",
    "\n",
    "vstoxx= pd.concat([STOXX,vstoxx.set_index('Date'),vst1me.set_index('Date'),vmt5me.set_index('Date')],join='inner',axis=1)"
   ]
  },
  {
   "cell_type": "code",
   "execution_count": null,
   "metadata": {},
   "outputs": [],
   "source": [
    "pickle_vstoxx= open(path+\"\\\\VSTOXX_indexes.pkl\",\"wb\")\n",
    "pickle.dump(vstoxx, pickle_vstoxx)\n",
    "pickle_vstoxx.close()"
   ]
  },
  {
   "cell_type": "code",
   "execution_count": null,
   "metadata": {},
   "outputs": [],
   "source": []
  }
 ],
 "metadata": {
  "kernelspec": {
   "display_name": "myenv",
   "language": "python",
   "name": "myenv"
  },
  "language_info": {
   "codemirror_mode": {
    "name": "ipython",
    "version": 3
   },
   "file_extension": ".py",
   "mimetype": "text/x-python",
   "name": "python",
   "nbconvert_exporter": "python",
   "pygments_lexer": "ipython3",
   "version": "3.6.5"
  }
 },
 "nbformat": 4,
 "nbformat_minor": 2
}

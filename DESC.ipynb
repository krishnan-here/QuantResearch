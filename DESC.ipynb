{
  "nbformat": 4,
  "nbformat_minor": 0,
  "metadata": {
    "colab": {
      "provenance": [],
      "include_colab_link": true
    },
    "kernelspec": {
      "name": "python3",
      "display_name": "Python 3"
    },
    "language_info": {
      "name": "python"
    }
  },
  "cells": [
    {
      "cell_type": "markdown",
      "metadata": {
        "id": "view-in-github",
        "colab_type": "text"
      },
      "source": [
        "<a href=\"https://colab.research.google.com/github/krishnan-here/QuantResearch/blob/master/DESC.ipynb\" target=\"_parent\"><img src=\"https://colab.research.google.com/assets/colab-badge.svg\" alt=\"Open In Colab\"/></a>"
      ]
    },
    {
      "cell_type": "code",
      "metadata": {
        "id": "qLDi6YEBStT1"
      },
      "source": [
        " # loading the packages\n",
        "import pandas as pd\n",
        "import matplotlib.pyplot as plt"
      ],
      "execution_count": 2,
      "outputs": []
    },
    {
      "cell_type": "code",
      "source": [
        "# loading data\n",
        "URL_adult='https://raw.githubusercontent.com/kamranbakhtiari/DESC624/main/Adult'\n",
        "adult = pd.read_csv(URL_adult)\n",
        "\n",
        "adult.info()\n"
      ],
      "metadata": {
        "colab": {
          "base_uri": "https://localhost:8080/"
        },
        "id": "CkT9HFMBMCiW",
        "outputId": "80b54eac-5e83-45c3-c544-8d6e5d3cc140"
      },
      "execution_count": 3,
      "outputs": [
        {
          "output_type": "stream",
          "name": "stdout",
          "text": [
            "<class 'pandas.core.frame.DataFrame'>\n",
            "RangeIndex: 25000 entries, 0 to 24999\n",
            "Data columns (total 15 columns):\n",
            " #   Column          Non-Null Count  Dtype \n",
            "---  ------          --------------  ----- \n",
            " 0   age             25000 non-null  int64 \n",
            " 1   workclass       25000 non-null  object\n",
            " 2   demogweight     25000 non-null  int64 \n",
            " 3   education       25000 non-null  object\n",
            " 4   education-num   25000 non-null  int64 \n",
            " 5   marital-status  25000 non-null  object\n",
            " 6   occupation      25000 non-null  object\n",
            " 7   relationship    25000 non-null  object\n",
            " 8   race            25000 non-null  object\n",
            " 9   sex             25000 non-null  object\n",
            " 10  capital-gain    25000 non-null  int64 \n",
            " 11  capital-loss    25000 non-null  int64 \n",
            " 12  hours-per-week  25000 non-null  int64 \n",
            " 13  native-country  25000 non-null  object\n",
            " 14  income          25000 non-null  object\n",
            "dtypes: int64(6), object(9)\n",
            "memory usage: 2.9+ MB\n"
          ]
        }
      ]
    },
    {
      "cell_type": "markdown",
      "metadata": {
        "id": "xujDJlgGNdSt"
      },
      "source": [
        "**1. Partition the data set, so that 50% of the records are included in the training data set and 50% are included in the test data set.  Use a bar graph to conifrm your proportions**\n",
        "\n",
        "\n",
        "\n"
      ]
    },
    {
      "cell_type": "code",
      "metadata": {
        "id": "CHDeKB_bNza5",
        "colab": {
          "base_uri": "https://localhost:8080/",
          "height": 504
        },
        "outputId": "7346a80f-24c1-4d0a-c850-ee45b9bfe9a3"
      },
      "source": [
        "### Show your Code Here ###\n",
        "\n",
        "border = int(adult.shape[0]/2)\n",
        "train, test = adult[:border], adult[border:]\n",
        "print(adult.shape, train.shape, test.shape)\n",
        "\n",
        "data = {'train':train.shape[0], 'test':test.shape[0]}\n",
        "dfs = list(data.keys())\n",
        "vals = list(data.values())\n",
        "  \n",
        "fig = plt.figure(figsize = (10, 5))\n",
        " \n",
        "# creating the bar plot\n",
        "plt.bar(dfs, vals, color ='maroon',\n",
        "        width = 0.4)\n",
        " \n",
        "plt.xlabel(\"Datasets\")\n",
        "plt.ylabel(\"No. of row data\")\n",
        "plt.title(\"Datasets sizes in rows\")\n",
        "plt.show()"
      ],
      "execution_count": 4,
      "outputs": [
        {
          "output_type": "stream",
          "name": "stdout",
          "text": [
            "(25000, 15) (12500, 15) (12500, 15)\n"
          ]
        },
        {
          "output_type": "display_data",
          "data": {
            "text/plain": [
              "<Figure size 1000x500 with 1 Axes>"
            ],
            "image/png": "[encoded data removed]"
          },
          "metadata": {}
        }
      ]
    },
    {
      "cell_type": "markdown",
      "metadata": {
        "id": "08xfIQQIN11C"
      },
      "source": [
        "Provide sentence(s) explaining your solution\n",
        "\n",
        "create a border at center of full dataset and separate, put the values before the border as train data and the valus below the border as the test data"
      ]
    },
    {
      "cell_type": "markdown",
      "metadata": {
        "id": "9m5Z9SUiN902"
      },
      "source": [
        "**2. Identify the total number of records in the training data set, and how many records in the training data set have an income value of < 50k**"
      ]
    },
    {
      "cell_type": "code",
      "metadata": {
        "id": "j1-jL8vNOLHq",
        "colab": {
          "base_uri": "https://localhost:8080/"
        },
        "outputId": "7a5d411c-b30d-4591-e67a-a52e7ec86d6a"
      },
      "source": [
        "print(train.shape[0])\n",
        "under_50_data = train[train[\"income\"] == train[\"income\"].unique()[0]]\n",
        "under_50_data.shape[0]"
      ],
      "execution_count": 5,
      "outputs": [
        {
          "output_type": "stream",
          "name": "stdout",
          "text": [
            "12500\n"
          ]
        },
        {
          "output_type": "execute_result",
          "data": {
            "text/plain": [
              "9514"
            ]
          },
          "metadata": {},
          "execution_count": 5
        }
      ]
    },
    {
      "cell_type": "markdown",
      "metadata": {
        "id": "W4g6RJyqOMeF"
      },
      "source": [
        "# Provide sentence(s) explaining your solution\n",
        "\n",
        "Find all the unique values in the income column, and filter the first ('<=50')"
      ]
    },
    {
      "cell_type": "markdown",
      "metadata": {
        "id": "kUaTYgj7Ou9e"
      },
      "source": [
        "**3. Use your answers from the previous excercise to calculate how many records with income >50k you need to resmaple in order to have 35% of the rebalanced data set have incomes of >50k**"
      ]
    },
    {
      "cell_type": "code",
      "metadata": {
        "id": "zi3dD24DP7y6",
        "colab": {
          "base_uri": "https://localhost:8080/"
        },
        "outputId": "2f4ac236-e066-4262-e4b1-5389550d1f9d"
      },
      "source": [
        "over_50 = train.shape[0] - under_50_data.shape[0]\n",
        "print(f\"Current Over 50: {over_50/train.shape[0]*100}%\")\n",
        "bal_rows = int(0.35*train.shape[0])- over_50\n",
        "print(bal_rows)"
      ],
      "execution_count": 6,
      "outputs": [
        {
          "output_type": "stream",
          "name": "stdout",
          "text": [
            "Current Over 50: 23.888%\n",
            "1389\n"
          ]
        }
      ]
    },
    {
      "cell_type": "markdown",
      "metadata": {
        "id": "EsNBcf_8P9V_"
      },
      "source": [
        "Provide sentence(s) explaining your solution\n",
        "\n",
        "Calculate the current number of records that are over 50k. Calculate number of rows needed to make 35% of the data, then subtract the current number of rows with over 50k."
      ]
    },
    {
      "cell_type": "markdown",
      "metadata": {
        "id": "nCax9VPUQACJ"
      },
      "source": [
        "**4. Perform the rebalancing described in the previous exercise and confirm that 35% of the records in the rebalanced data set have incomes >50k**"
      ]
    },
    {
      "cell_type": "code",
      "metadata": {
        "id": "PkoTGcubRfDV",
        "colab": {
          "base_uri": "https://localhost:8080/"
        },
        "outputId": "df9daf41-e5c5-49a3-baad-bc62bbd3781f"
      },
      "source": [
        "train_under = train[train[\"income\"] == \"<=50K.\"][:bal_rows]\n",
        "test_over = test[test[\"income\"] == \">50K.\"][:bal_rows]\n",
        "\n",
        "train.drop(list(train_under.index), axis=0, inplace=True)\n",
        "test.drop(list(test_over.index), axis=0, inplace=True)\n",
        "\n",
        "train = pd.concat([train, test_over])\n",
        "test = pd.concat([test, train_under])\n",
        "\n",
        "train[train[\"income\"] == \">50K.\"].shape[0]/train.shape[0] * 100"
      ],
      "execution_count": 7,
      "outputs": [
        {
          "output_type": "stream",
          "name": "stderr",
          "text": [
            "<ipython-input-7-ed2707a09a09>:4: SettingWithCopyWarning: \n",
            "A value is trying to be set on a copy of a slice from a DataFrame\n",
            "\n",
            "See the caveats in the documentation: https://pandas.pydata.org/pandas-docs/stable/user_guide/indexing.html#returning-a-view-versus-a-copy\n",
            "  train.drop(list(train_under.index), axis=0, inplace=True)\n",
            "<ipython-input-7-ed2707a09a09>:5: SettingWithCopyWarning: \n",
            "A value is trying to be set on a copy of a slice from a DataFrame\n",
            "\n",
            "See the caveats in the documentation: https://pandas.pydata.org/pandas-docs/stable/user_guide/indexing.html#returning-a-view-versus-a-copy\n",
            "  test.drop(list(test_over.index), axis=0, inplace=True)\n"
          ]
        },
        {
          "output_type": "execute_result",
          "data": {
            "text/plain": [
              "35.0"
            ]
          },
          "metadata": {},
          "execution_count": 7
        }
      ]
    },
    {
      "cell_type": "markdown",
      "metadata": {
        "id": "rK2MwNHdRgI8"
      },
      "source": [
        "Provide sentence(s) explaining your solution\n",
        "\n",
        "Select rows in the train data that have under 50K that would need to be removed inorder to get 35% of the rows with over 50K in income. Equally, select rows with over 50K in income from the test data that would need to be transferred to the train data to achieve the 35% over 50K in train data."
      ]
    },
    {
      "cell_type": "markdown",
      "metadata": {
        "id": "h6FkRmCHRnYk"
      },
      "source": [
        "**5. Validate your partition by performing a two-sample Z-test for the difference in means for the mean age in the training set versus the mean age in the test set?**"
      ]
    },
    {
      "cell_type": "code",
      "metadata": {
        "id": "KK6POUfCR1_o",
        "colab": {
          "base_uri": "https://localhost:8080/"
        },
        "outputId": "1a5e50df-bad5-4cb7-f9f4-82e1744d6f58"
      },
      "source": [
        "from statsmodels.stats.weightstats import ztest\n",
        "\n",
        "ztest(train[\"age\"], test[\"age\"], value=0, alternative=\"two-sided\")\n",
        "# Since this p-value is not less than .05, we do not have sufficient evidence to reject the null hypothesis. "
      ],
      "execution_count": 8,
      "outputs": [
        {
          "output_type": "execute_result",
          "data": {
            "text/plain": [
              "(7.597923255999398, 3.009206875932049e-14)"
            ]
          },
          "metadata": {},
          "execution_count": 8
        }
      ]
    },
    {
      "cell_type": "markdown",
      "metadata": {
        "id": "WzRG2Tn6SOhl"
      },
      "source": [
        "Provide sentence(s) explaining your solution\n",
        "\n",
        "#H0: there is no difference between the train mean with the test mean. The test-statistic is 7.598 and the corresponding p-value is very small and much much less than 0.05.\n",
        "\n"
      ]
    },
    {
      "cell_type": "markdown",
      "metadata": {
        "id": "Q3lSLp4HSRam"
      },
      "source": [
        "**6. Validate your partition by performing a two-sample Z-test for the difference in proportion of >50k records in the training set versus the proportion of >50k records in the test set?**"
      ]
    },
    {
      "cell_type": "code",
      "metadata": {
        "id": "7W9RmFzZSgJO",
        "colab": {
          "base_uri": "https://localhost:8080/"
        },
        "outputId": "f51efffd-65a0-403f-c826-9f9334b47135"
      },
      "source": [
        "from statsmodels.stats.proportion import proportions_ztest\n",
        "import numpy as np\n",
        "\n",
        "significance = 0.5\n",
        "# our samples - 35% of incomes are >50K in train, and ~13% of incomes in test are  >50K.\n",
        "\n",
        "over_50_train, sample_size_train = (train[train[\"income\"] == \">50K.\"].shape[0], train.shape[0])\n",
        "over_50_test, sample_size_test = (test[test[\"income\"] == \">50K.\"].shape[0], test.shape[0])\n",
        "# check for null ( H0 == H1)\n",
        "successes = np.array([over_50_train, over_50_test])\n",
        "samples = np.array([sample_size_train, sample_size_test])\n",
        "\n",
        "stat, p_value = proportions_ztest(count=successes, nobs=samples,  alternative='two-sided')\n",
        "\n",
        "# REPORT \n",
        "# H0: There is no difference in over 50 incomes between train and test data\n",
        "# H1: There is a difference in over 50 incomes between train and test data \n",
        "print('z_stat: %0.3f, p_value: %0.3f' % (stat, p_value))\n",
        "if p_value > significance:\n",
        "   print (\"Fail to reject the null hypothesis - we have nothing else to say\")\n",
        "else:\n",
        "   print (\"Reject the null hypothesis - the alternative hypothesis is true\")\n"
      ],
      "execution_count": 10,
      "outputs": [
        {
          "output_type": "stream",
          "name": "stdout",
          "text": [
            "z_stat: 40.998, p_value: 0.000\n",
            "Reject the null hypothesis - the alternative hypothesis is true\n"
          ]
        }
      ]
    },
    {
      "cell_type": "markdown",
      "metadata": {
        "id": "Gp3hdZ8uSggu"
      },
      "source": [
        "Provide sentence(s) explaining your solution"
      ]
    },
    {
      "cell_type": "markdown",
      "metadata": {
        "id": "1zO6VWw3SkT_"
      },
      "source": [
        "**Please use the following dataset for problems 7 - 8**"
      ]
    },
    {
      "cell_type": "code",
      "metadata": {
        "id": "Fv1-SSWnS3He",
        "colab": {
          "base_uri": "https://localhost:8080/",
          "height": 424
        },
        "outputId": "803c1f10-4d38-4b72-98a7-c2f4ea076be8"
      },
      "source": [
        "import pandas as pd\n",
        "\n",
        "URL_loan_training='https://raw.githubusercontent.com/kamranbakhtiari/DESC624/main/Loans_Training'\n",
        "URL_loan_test='https://raw.githubusercontent.com/kamranbakhtiari/DESC624/main/Loans_Test'\n",
        "\n",
        "loan_test = pd.read_csv(URL_loan_test)\n",
        "loan_training = pd.read_csv(URL_loan_training)\n",
        "\n",
        "# NB: comment (#) on this line to use the full dataset \n",
        "#loan_training = loan_training[:int(loan_training.shape[0]*0.5)]\n",
        "\n",
        "loan_test\n",
        "loan_training"
      ],
      "execution_count": 11,
      "outputs": [
        {
          "output_type": "execute_result",
          "data": {
            "text/plain": [
              "       Approval  Debt-to-Income Ratio  FICO Score  Request Amount  Interest\n",
              "0             F                  0.00         397            1000     450.0\n",
              "1             F                  0.00         403             500     225.0\n",
              "2             F                  0.00         408            1000     450.0\n",
              "3             F                  0.00         408            2000     900.0\n",
              "4             F                  0.00         411            5000    2250.0\n",
              "...         ...                   ...         ...             ...       ...\n",
              "150297        T                  0.38         709           19000    8550.0\n",
              "150298        T                  0.38         722           17000    7650.0\n",
              "150299        T                  0.38         747           11000    4950.0\n",
              "150300        T                  0.39         679           10000    4500.0\n",
              "150301        T                  0.39         769            7000    3150.0\n",
              "\n",
              "[150302 rows x 5 columns]"
            ],
            "text/html": [
              "\n",
              "  <div id=\"df-0897e450-7ffd-4400-ad94-5dcdc276b968\">\n",
              "    <div class=\"colab-df-container\">\n",
              "      <div>\n",
              "<style scoped>\n",
              "    .dataframe tbody tr th:only-of-type {\n",
              "        vertical-align: middle;\n",
              "    }\n",
              "\n",
              "    .dataframe tbody tr th {\n",
              "        vertical-align: top;\n",
              "    }\n",
              "\n",
              "    .dataframe thead th {\n",
              "        text-align: right;\n",
              "    }\n",
              "</style>\n",
              "<table border=\"1\" class=\"dataframe\">\n",
              "  <thead>\n",
              "    <tr style=\"text-align: right;\">\n",
              "      <th></th>\n",
              "      <th>Approval</th>\n",
              "      <th>Debt-to-Income Ratio</th>\n",
              "      <th>FICO Score</th>\n",
              "      <th>Request Amount</th>\n",
              "      <th>Interest</th>\n",
              "    </tr>\n",
              "  </thead>\n",
              "  <tbody>\n",
              "    <tr>\n",
              "      <th>0</th>\n",
              "      <td>F</td>\n",
              "      <td>0.00</td>\n",
              "      <td>397</td>\n",
              "      <td>1000</td>\n",
              "      <td>450.0</td>\n",
              "    </tr>\n",
              "    <tr>\n",
              "      <th>1</th>\n",
              "      <td>F</td>\n",
              "      <td>0.00</td>\n",
              "      <td>403</td>\n",
              "      <td>500</td>\n",
              "      <td>225.0</td>\n",
              "    </tr>\n",
              "    <tr>\n",
              "      <th>2</th>\n",
              "      <td>F</td>\n",
              "      <td>0.00</td>\n",
              "      <td>408</td>\n",
              "      <td>1000</td>\n",
              "      <td>450.0</td>\n",
              "    </tr>\n",
              "    <tr>\n",
              "      <th>3</th>\n",
              "      <td>F</td>\n",
              "      <td>0.00</td>\n",
              "      <td>408</td>\n",
              "      <td>2000</td>\n",
              "      <td>900.0</td>\n",
              "    </tr>\n",
              "    <tr>\n",
              "      <th>4</th>\n",
              "      <td>F</td>\n",
              "      <td>0.00</td>\n",
              "      <td>411</td>\n",
              "      <td>5000</td>\n",
              "      <td>2250.0</td>\n",
              "    </tr>\n",
              "    <tr>\n",
              "      <th>...</th>\n",
              "      <td>...</td>\n",
              "      <td>...</td>\n",
              "      <td>...</td>\n",
              "      <td>...</td>\n",
              "      <td>...</td>\n",
              "    </tr>\n",
              "    <tr>\n",
              "      <th>150297</th>\n",
              "      <td>T</td>\n",
              "      <td>0.38</td>\n",
              "      <td>709</td>\n",
              "      <td>19000</td>\n",
              "      <td>8550.0</td>\n",
              "    </tr>\n",
              "    <tr>\n",
              "      <th>150298</th>\n",
              "      <td>T</td>\n",
              "      <td>0.38</td>\n",
              "      <td>722</td>\n",
              "      <td>17000</td>\n",
              "      <td>7650.0</td>\n",
              "    </tr>\n",
              "    <tr>\n",
              "      <th>150299</th>\n",
              "      <td>T</td>\n",
              "      <td>0.38</td>\n",
              "      <td>747</td>\n",
              "      <td>11000</td>\n",
              "      <td>4950.0</td>\n",
              "    </tr>\n",
              "    <tr>\n",
              "      <th>150300</th>\n",
              "      <td>T</td>\n",
              "      <td>0.39</td>\n",
              "      <td>679</td>\n",
              "      <td>10000</td>\n",
              "      <td>4500.0</td>\n",
              "    </tr>\n",
              "    <tr>\n",
              "      <th>150301</th>\n",
              "      <td>T</td>\n",
              "      <td>0.39</td>\n",
              "      <td>769</td>\n",
              "      <td>7000</td>\n",
              "      <td>3150.0</td>\n",
              "    </tr>\n",
              "  </tbody>\n",
              "</table>\n",
              "<p>150302 rows × 5 columns</p>\n",
              "</div>\n",
              "      <button class=\"colab-df-convert\" onclick=\"convertToInteractive('df-0897e450-7ffd-4400-ad94-5dcdc276b968')\"\n",
              "              title=\"Convert this dataframe to an interactive table.\"\n",
              "              style=\"display:none;\">\n",
              "        \n",
              "  <svg xmlns=\"http://www.w3.org/2000/svg\" height=\"24px\"viewBox=\"0 0 24 24\"\n",
              "       width=\"24px\">\n",
              "    <path d=\"M0 0h24v24H0V0z\" fill=\"none\"/>\n",
              "    <path d=\"M18.56 5.44l.94 2.06.94-2.06 2.06-.94-2.06-.94-.94-2.06-.94 2.06-2.06.94zm-11 1L8.5 8.5l.94-2.06 2.06-.94-2.06-.94L8.5 2.5l-.94 2.06-2.06.94zm10 10l.94 2.06.94-2.06 2.06-.94-2.06-.94-.94-2.06-.94 2.06-2.06.94z\"/><path d=\"M17.41 7.96l-1.37-1.37c-.4-.4-.92-.59-1.43-.59-.52 0-1.04.2-1.43.59L10.3 9.45l-7.72 7.72c-.78.78-.78 2.05 0 2.83L4 21.41c.39.39.9.59 1.41.59.51 0 1.02-.2 1.41-.59l7.78-7.78 2.81-2.81c.8-.78.8-2.07 0-2.86zM5.41 20L4 18.59l7.72-7.72 1.47 1.35L5.41 20z\"/>\n",
              "  </svg>\n",
              "      </button>\n",
              "      \n",
              "  <style>\n",
              "    .colab-df-container {\n",
              "      display:flex;\n",
              "      flex-wrap:wrap;\n",
              "      gap: 12px;\n",
              "    }\n",
              "\n",
              "    .colab-df-convert {\n",
              "      background-color: #E8F0FE;\n",
              "      border: none;\n",
              "      border-radius: 50%;\n",
              "      cursor: pointer;\n",
              "      display: none;\n",
              "      fill: #1967D2;\n",
              "      height: 32px;\n",
              "      padding: 0 0 0 0;\n",
              "      width: 32px;\n",
              "    }\n",
              "\n",
              "    .colab-df-convert:hover {\n",
              "      background-color: #E2EBFA;\n",
              "      box-shadow: 0px 1px 2px rgba(60, 64, 67, 0.3), 0px 1px 3px 1px rgba(60, 64, 67, 0.15);\n",
              "      fill: #174EA6;\n",
              "    }\n",
              "\n",
              "    [theme=dark] .colab-df-convert {\n",
              "      background-color: #3B4455;\n",
              "      fill: #D2E3FC;\n",
              "    }\n",
              "\n",
              "    [theme=dark] .colab-df-convert:hover {\n",
              "      background-color: #434B5C;\n",
              "      box-shadow: 0px 1px 3px 1px rgba(0, 0, 0, 0.15);\n",
              "      filter: drop-shadow(0px 1px 2px rgba(0, 0, 0, 0.3));\n",
              "      fill: #FFFFFF;\n",
              "    }\n",
              "  </style>\n",
              "\n",
              "      <script>\n",
              "        const buttonEl =\n",
              "          document.querySelector('#df-0897e450-7ffd-4400-ad94-5dcdc276b968 button.colab-df-convert');\n",
              "        buttonEl.style.display =\n",
              "          google.colab.kernel.accessAllowed ? 'block' : 'none';\n",
              "\n",
              "        async function convertToInteractive(key) {\n",
              "          const element = document.querySelector('#df-0897e450-7ffd-4400-ad94-5dcdc276b968');\n",
              "          const dataTable =\n",
              "            await google.colab.kernel.invokeFunction('convertToInteractive',\n",
              "                                                     [key], {});\n",
              "          if (!dataTable) return;\n",
              "\n",
              "          const docLinkHtml = 'Like what you see? Visit the ' +\n",
              "            '<a target=\"_blank\" href=https://colab.research.google.com/notebooks/data_table.ipynb>data table notebook</a>'\n",
              "            + ' to learn more about interactive tables.';\n",
              "          element.innerHTML = '';\n",
              "          dataTable['output_type'] = 'display_data';\n",
              "          await google.colab.output.renderOutput(dataTable, element);\n",
              "          const docLink = document.createElement('div');\n",
              "          docLink.innerHTML = docLinkHtml;\n",
              "          element.appendChild(docLink);\n",
              "        }\n",
              "      </script>\n",
              "    </div>\n",
              "  </div>\n",
              "  "
            ]
          },
          "metadata": {},
          "execution_count": 11
        }
      ]
    },
    {
      "cell_type": "markdown",
      "metadata": {
        "id": "OAPRjRlTS2sm"
      },
      "source": [
        "**7. Create a CART model using the training data set that predicts Approval using Debt to Income Ratio, FICO score, and Request Amount. Visualize the decision Tree (make sure the decision tree appears directly in this workbook, not a seperate .dot file).  Describe the first few splits in the decision tree.  What do the values in the brackets represent?  The sample size for each node?  the Root?**"
      ]
    },
    {
      "cell_type": "code",
      "metadata": {
        "id": "8L_g08A5TT72",
        "colab": {
          "base_uri": "https://localhost:8080/"
        },
        "outputId": "e5358d85-44e2-40e9-faeb-865b1c570a93"
      },
      "source": [
        "from sklearn import tree\n",
        "import graphviz\n",
        "\n",
        "target = {\"T\":1, \"F\":0}\n",
        "loan_training[\"Approval\"] = loan_training[\"Approval\"].apply(lambda x: target[x])\n",
        "y_train = loan_training[\"Approval\"]\n",
        "X_train = loan_training.drop([\"Approval\"], axis=1)\n",
        "y_train.shape, X_train.shape, loan_training.shape"
      ],
      "execution_count": 12,
      "outputs": [
        {
          "output_type": "execute_result",
          "data": {
            "text/plain": [
              "((150302,), (150302, 4), (150302, 5))"
            ]
          },
          "metadata": {},
          "execution_count": 12
        }
      ]
    },
    {
      "cell_type": "code",
      "source": [
        "\n",
        "model = tree.DecisionTreeClassifier(random_state=0)\n",
        "clf = model.fit(X_train, y_train)\n",
        "dot_data = tree.export_graphviz(clf,\n",
        "                  out_file=None,\n",
        "                   feature_names=X_train.columns, \n",
        "                   class_names=[str(list(clf.classes_)[0]), str(list(clf.classes_)[1])],\n",
        "                   filled=True, \n",
        "                   rounded=True)\n",
        "graphviz.Source(dot_data)\n"
      ],
      "metadata": {
        "id": "zR1UdTk5RDWD"
      },
      "execution_count": null,
      "outputs": []
    },
    {
      "cell_type": "markdown",
      "metadata": {
        "id": "w40I4c6qTVQA"
      },
      "source": [
        "Provide sentence(s) explaining your solution"
      ]
    },
    {
      "cell_type": "markdown",
      "metadata": {
        "id": "lh92b33bTX7n"
      },
      "source": [
        "**8. Create a CART model using the test data set that uses the same target and predictor variables.  Visualize the decision Tree (make sure the decision tree appears directly in this workbook, not a seperate .dot file).  Describe the first few splits in the decision tree.  What do the values in the brackets represent?  The sample size for each node?  the Root?  Does the tree built using the test data match the tree built using the training data?**"
      ]
    },
    {
      "cell_type": "code",
      "metadata": {
        "id": "EPnmtawiTp7j"
      },
      "source": [
        "target = {\"T\":1, \"F\":0}\n",
        "loan_test[\"Approval\"] = loan_test[\"Approval\"].apply(lambda x: target[x])\n",
        "y_test = loan_test[\"Approval\"]\n",
        "X_test = loan_test.drop([\"Approval\"], axis=1)\n",
        "\n",
        "model = tree.DecisionTreeClassifier(random_state=0)\n",
        "clf = model.fit(X_test, y_test)\n",
        "dot_data = tree.export_graphviz(clf,\n",
        "                  out_file=None,\n",
        "                   feature_names=X_test.columns, \n",
        "                   class_names=[str(list(clf.classes_)[0]), str(list(clf.classes_)[1])],\n",
        "                   filled=True, \n",
        "                   rounded=True)\n",
        "graphviz.Source(dot_data)\n"
      ],
      "execution_count": 13,
      "outputs": []
    },
    {
      "cell_type": "markdown",
      "metadata": {
        "id": "RN7SYAbZTq_p"
      },
      "source": [
        "Provide sentence(s) explaining your solution"
      ]
    }
  ]
}